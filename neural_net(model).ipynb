{
 "cells": [
  {
   "cell_type": "markdown",
   "metadata": {},
   "source": [
    "# Classification Model using SVM "
   ]
  },
  {
   "cell_type": "code",
   "execution_count": 51,
   "metadata": {
    "id": "3hQ0E-FhiM96"
   },
   "outputs": [],
   "source": [
    "import numpy as np\n",
    "import sys\n",
    "import matplotlib.pyplot as plt\n",
    "import scipy.stats as stats\n",
    "import pandas as pd\n",
    "from sklearn import svm"
   ]
  },
  {
   "cell_type": "code",
   "execution_count": 52,
   "metadata": {
    "colab": {
     "base_uri": "https://localhost:8080/"
    },
    "id": "-UvfqAvyiWCD",
    "outputId": "7d148cc8-f3a0-433f-8abf-e789e6a549e1"
   },
   "outputs": [
    {
     "name": "stdout",
     "output_type": "stream",
     "text": [
      "[[0. 0. 0. ... 0. 0. 4.]\n",
      " [0. 0. 0. ... 0. 0. 4.]\n",
      " [0. 0. 0. ... 0. 0. 4.]\n",
      " ...\n",
      " [0. 0. 0. ... 0. 0. 4.]\n",
      " [0. 0. 0. ... 0. 0. 4.]\n",
      " [0. 0. 0. ... 0. 0. 4.]]\n",
      "[ 1.  1.  1. ... 20. 20. 20.]\n"
     ]
    }
   ],
   "source": [
    "spike_data = np.loadtxt('/content/DataSetCoursework_DHA.txt')\n",
    "n,m = spike_data.shape\n",
    "spikes = spike_data[:,0:m-1]\n",
    "trial_num = np.zeros((n, 1))\n",
    "trial_num = spike_data[:,m-1]\n",
    "\n",
    "print(spikes)\n",
    "print(trial_num)"
   ]
  },
  {
   "cell_type": "code",
   "execution_count": 53,
   "metadata": {
    "id": "Ieqhe8UfiYN6"
   },
   "outputs": [],
   "source": [
    "\n",
    "X = spikes\n",
    "y = trial_num\n",
    "\n",
    "from sklearn.model_selection import train_test_split\n",
    "X_train, X_test, y_train, y_test = train_test_split(X, y, test_size=0.2, random_state=42)"
   ]
  },
  {
   "cell_type": "code",
   "execution_count": 54,
   "metadata": {
    "id": "EH5sH_FijVIF"
   },
   "outputs": [],
   "source": [
    "import pandas as pd\n",
    "from sklearn import svm\n",
    "clf = svm.SVC(C=2, kernel='linear')"
   ]
  },
  {
   "cell_type": "code",
   "execution_count": 55,
   "metadata": {
    "colab": {
     "base_uri": "https://localhost:8080/"
    },
    "id": "rrQV0clHjXD-",
    "outputId": "805fffc6-8ef8-425e-fc77-183ca7af71f4"
   },
   "outputs": [
    {
     "name": "stdout",
     "output_type": "stream",
     "text": [
      "SVC(C=2, kernel='linear')\n"
     ]
    }
   ],
   "source": [
    "print(clf)"
   ]
  },
  {
   "cell_type": "code",
   "execution_count": 56,
   "metadata": {
    "id": "iqTGJOMojYoE"
   },
   "outputs": [],
   "source": [
    "#Creating the model on Training Data\n",
    "SVM=clf.fit(X_train,y_train)\n",
    "prediction=SVM.predict(X_test)"
   ]
  },
  {
   "cell_type": "code",
   "execution_count": 57,
   "metadata": {
    "colab": {
     "base_uri": "https://localhost:8080/"
    },
    "id": "tJPc98PGjaOe",
    "outputId": "bd847b3c-7365-4c93-e462-0b35b8754699"
   },
   "outputs": [
    {
     "name": "stdout",
     "output_type": "stream",
     "text": [
      "              precision    recall  f1-score   support\n",
      "\n",
      "         1.0       0.21      0.98      0.34        46\n",
      "         2.0       0.00      0.00      0.00        21\n",
      "         3.0       0.00      0.00      0.00        21\n",
      "         4.0       0.00      0.00      0.00        71\n",
      "         5.0       0.15      0.93      0.25        56\n",
      "         6.0       0.00      0.00      0.00        25\n",
      "         7.0       0.00      0.00      0.00        24\n",
      "         8.0       0.00      0.00      0.00        22\n",
      "         9.0       0.00      0.00      0.00        38\n",
      "        10.0       0.00      0.00      0.00        31\n",
      "        11.0       1.00      1.00      1.00        37\n",
      "        12.0       0.25      0.07      0.12        40\n",
      "        13.0       0.33      0.07      0.12        27\n",
      "        14.0       0.00      0.00      0.00        28\n",
      "        15.0       0.00      0.00      0.00         8\n",
      "        16.0       0.00      0.00      0.00        13\n",
      "        17.0       0.00      0.00      0.00        17\n",
      "        18.0       0.00      0.00      0.00        33\n",
      "        19.0       0.00      0.00      0.00        59\n",
      "        20.0       0.25      0.04      0.06        28\n",
      "\n",
      "    accuracy                           0.22       645\n",
      "   macro avg       0.11      0.15      0.09       645\n",
      "weighted avg       0.13      0.22      0.12       645\n",
      "\n",
      "[[45  0  0  0  0  0  0  1  0  0  0  0  0  0  0  0  0  0  0  0]\n",
      " [21  0  0  0  0  0  0  0  0  0  0  0  0  0  0  0  0  0  0  0]\n",
      " [20  0  0  0  0  0  0  1  0  0  0  0  0  0  0  0  0  0  0  0]\n",
      " [ 0  0  0  0 69  0  1  0  0  0  0  1  0  0  0  0  0  0  0  0]\n",
      " [ 0  0  0  2 52  0  0  0  0  0  0  2  0  0  0  0  0  0  0  0]\n",
      " [25  0  0  0  0  0  0  0  0  0  0  0  0  0  0  0  0  0  0  0]\n",
      " [ 0  0  0  0 23  0  0  0  0  0  0  1  0  0  0  0  0  0  0  0]\n",
      " [21  0  0  0  0  0  0  0  0  0  0  0  0  1  0  0  0  0  0  0]\n",
      " [ 0  0  0  1 35  0  0  0  0  0  0  1  1  0  0  0  0  0  0  0]\n",
      " [ 0  0  0  0 31  0  0  0  0  0  0  0  0  0  0  0  0  0  0  0]\n",
      " [ 0  0  0  0  0  0  0  0  0  0 37  0  0  0  0  0  0  0  0  0]\n",
      " [ 0  0  0  0 35  0  0  0  0  0  0  3  2  0  0  0  0  0  0  0]\n",
      " [ 0  0  0  2 23  0  0  0  0  0  0  0  2  0  0  0  0  0  0  0]\n",
      " [27  0  0  0  0  0  0  1  0  0  0  0  0  0  0  0  0  0  0  0]\n",
      " [ 8  0  0  0  0  0  0  0  0  0  0  0  0  0  0  0  0  0  0  0]\n",
      " [10  0  0  0  0  0  0  0  0  0  0  0  0  0  0  0  0  0  0  3]\n",
      " [15  0  0  0  0  0  0  1  0  0  0  0  0  1  0  0  0  0  0  0]\n",
      " [ 0  0  0  0 33  0  0  0  0  0  0  0  0  0  0  0  0  0  0  0]\n",
      " [ 0  0  0  0 53  0  1  0  0  0  0  4  1  0  0  0  0  0  0  0]\n",
      " [27  0  0  0  0  0  0  0  0  0  0  0  0  0  0  0  0  0  0  1]]\n"
     ]
    },
    {
     "name": "stderr",
     "output_type": "stream",
     "text": [
      "/usr/local/lib/python3.8/dist-packages/sklearn/metrics/_classification.py:1318: UndefinedMetricWarning: Precision and F-score are ill-defined and being set to 0.0 in labels with no predicted samples. Use `zero_division` parameter to control this behavior.\n",
      "  _warn_prf(average, modifier, msg_start, len(result))\n",
      "/usr/local/lib/python3.8/dist-packages/sklearn/metrics/_classification.py:1318: UndefinedMetricWarning: Precision and F-score are ill-defined and being set to 0.0 in labels with no predicted samples. Use `zero_division` parameter to control this behavior.\n",
      "  _warn_prf(average, modifier, msg_start, len(result))\n",
      "/usr/local/lib/python3.8/dist-packages/sklearn/metrics/_classification.py:1318: UndefinedMetricWarning: Precision and F-score are ill-defined and being set to 0.0 in labels with no predicted samples. Use `zero_division` parameter to control this behavior.\n",
      "  _warn_prf(average, modifier, msg_start, len(result))\n"
     ]
    }
   ],
   "source": [
    "from sklearn import metrics\n",
    "print(metrics.classification_report(y_test, prediction))\n",
    "print(metrics.confusion_matrix(y_test, prediction))"
   ]
  },
  {
   "cell_type": "code",
   "execution_count": 58,
   "metadata": {
    "colab": {
     "base_uri": "https://localhost:8080/",
     "height": 282
    },
    "id": "dVzVyt4tjb7w",
    "outputId": "4174cb5b-0417-4850-a7cb-eb03dba538a5"
   },
   "outputs": [
    {
     "data": {
      "text/plain": [
       "<matplotlib.axes._subplots.AxesSubplot at 0x7f8274367d00>"
      ]
     },
     "execution_count": 58,
     "metadata": {},
     "output_type": "execute_result"
    },
    {
     "data": {
      "image/png": "[encoded data removed]",
      "text/plain": [
       "<Figure size 432x288 with 1 Axes>"
      ]
     },
     "metadata": {
      "needs_background": "light"
     },
     "output_type": "display_data"
    }
   ],
   "source": [
    "\n",
    "feature_importances = pd.Series(SVM.coef_[0])\n",
    "feature_importances.nlargest(10).plot(kind='barh')\n",
    " "
   ]
  },
  {
   "cell_type": "code",
   "execution_count": 59,
   "metadata": {
    "colab": {
     "base_uri": "https://localhost:8080/",
     "height": 206
    },
    "id": "ZOoNp_-jjfbo",
    "outputId": "e10b57af-b698-47fd-8feb-023a2e47cae8"
   },
   "outputs": [
    {
     "data": {
      "text/html": [
       "\n",
       "  <div id=\"df-34c43db5-110c-4b7a-88a6-6efda0ec4aae\">\n",
       "    <div class=\"colab-df-container\">\n",
       "      <div>\n",
       "<style scoped>\n",
       "    .dataframe tbody tr th:only-of-type {\n",
       "        vertical-align: middle;\n",
       "    }\n",
       "\n",
       "    .dataframe tbody tr th {\n",
       "        vertical-align: top;\n",
       "    }\n",
       "\n",
       "    .dataframe thead th {\n",
       "        text-align: right;\n",
       "    }\n",
       "</style>\n",
       "<table border=\"1\" class=\"dataframe\">\n",
       "  <thead>\n",
       "    <tr style=\"text-align: right;\">\n",
       "      <th></th>\n",
       "      <th>0</th>\n",
       "      <th>1</th>\n",
       "      <th>2</th>\n",
       "      <th>3</th>\n",
       "      <th>4</th>\n",
       "      <th>5</th>\n",
       "      <th>6</th>\n",
       "      <th>TargetColumn</th>\n",
       "      <th>Prediction</th>\n",
       "    </tr>\n",
       "  </thead>\n",
       "  <tbody>\n",
       "    <tr>\n",
       "      <th>0</th>\n",
       "      <td>0.0</td>\n",
       "      <td>0.0</td>\n",
       "      <td>0.0</td>\n",
       "      <td>0.0</td>\n",
       "      <td>0.0</td>\n",
       "      <td>1.0</td>\n",
       "      <td>4.0</td>\n",
       "      <td>3.0</td>\n",
       "      <td>8.0</td>\n",
       "    </tr>\n",
       "    <tr>\n",
       "      <th>1</th>\n",
       "      <td>0.0</td>\n",
       "      <td>0.0</td>\n",
       "      <td>0.0</td>\n",
       "      <td>0.0</td>\n",
       "      <td>0.0</td>\n",
       "      <td>0.0</td>\n",
       "      <td>3.0</td>\n",
       "      <td>4.0</td>\n",
       "      <td>5.0</td>\n",
       "    </tr>\n",
       "    <tr>\n",
       "      <th>2</th>\n",
       "      <td>0.0</td>\n",
       "      <td>0.0</td>\n",
       "      <td>0.0</td>\n",
       "      <td>0.0</td>\n",
       "      <td>1.0</td>\n",
       "      <td>0.0</td>\n",
       "      <td>3.0</td>\n",
       "      <td>4.0</td>\n",
       "      <td>5.0</td>\n",
       "    </tr>\n",
       "    <tr>\n",
       "      <th>3</th>\n",
       "      <td>0.0</td>\n",
       "      <td>0.0</td>\n",
       "      <td>0.0</td>\n",
       "      <td>0.0</td>\n",
       "      <td>0.0</td>\n",
       "      <td>0.0</td>\n",
       "      <td>3.0</td>\n",
       "      <td>13.0</td>\n",
       "      <td>5.0</td>\n",
       "    </tr>\n",
       "    <tr>\n",
       "      <th>4</th>\n",
       "      <td>0.0</td>\n",
       "      <td>0.0</td>\n",
       "      <td>0.0</td>\n",
       "      <td>0.0</td>\n",
       "      <td>0.0</td>\n",
       "      <td>0.0</td>\n",
       "      <td>3.0</td>\n",
       "      <td>9.0</td>\n",
       "      <td>5.0</td>\n",
       "    </tr>\n",
       "  </tbody>\n",
       "</table>\n",
       "</div>\n",
       "      <button class=\"colab-df-convert\" onclick=\"convertToInteractive('df-34c43db5-110c-4b7a-88a6-6efda0ec4aae')\"\n",
       "              title=\"Convert this dataframe to an interactive table.\"\n",
       "              style=\"display:none;\">\n",
       "        \n",
       "  <svg xmlns=\"http://www.w3.org/2000/svg\" height=\"24px\"viewBox=\"0 0 24 24\"\n",
       "       width=\"24px\">\n",
       "    <path d=\"M0 0h24v24H0V0z\" fill=\"none\"/>\n",
       "    <path d=\"M18.56 5.44l.94 2.06.94-2.06 2.06-.94-2.06-.94-.94-2.06-.94 2.06-2.06.94zm-11 1L8.5 8.5l.94-2.06 2.06-.94-2.06-.94L8.5 2.5l-.94 2.06-2.06.94zm10 10l.94 2.06.94-2.06 2.06-.94-2.06-.94-.94-2.06-.94 2.06-2.06.94z\"/><path d=\"M17.41 7.96l-1.37-1.37c-.4-.4-.92-.59-1.43-.59-.52 0-1.04.2-1.43.59L10.3 9.45l-7.72 7.72c-.78.78-.78 2.05 0 2.83L4 21.41c.39.39.9.59 1.41.59.51 0 1.02-.2 1.41-.59l7.78-7.78 2.81-2.81c.8-.78.8-2.07 0-2.86zM5.41 20L4 18.59l7.72-7.72 1.47 1.35L5.41 20z\"/>\n",
       "  </svg>\n",
       "      </button>\n",
       "      \n",
       "  <style>\n",
       "    .colab-df-container {\n",
       "      display:flex;\n",
       "      flex-wrap:wrap;\n",
       "      gap: 12px;\n",
       "    }\n",
       "\n",
       "    .colab-df-convert {\n",
       "      background-color: #E8F0FE;\n",
       "      border: none;\n",
       "      border-radius: 50%;\n",
       "      cursor: pointer;\n",
       "      display: none;\n",
       "      fill: #1967D2;\n",
       "      height: 32px;\n",
       "      padding: 0 0 0 0;\n",
       "      width: 32px;\n",
       "    }\n",
       "\n",
       "    .colab-df-convert:hover {\n",
       "      background-color: #E2EBFA;\n",
       "      box-shadow: 0px 1px 2px rgba(60, 64, 67, 0.3), 0px 1px 3px 1px rgba(60, 64, 67, 0.15);\n",
       "      fill: #174EA6;\n",
       "    }\n",
       "\n",
       "    [theme=dark] .colab-df-convert {\n",
       "      background-color: #3B4455;\n",
       "      fill: #D2E3FC;\n",
       "    }\n",
       "\n",
       "    [theme=dark] .colab-df-convert:hover {\n",
       "      background-color: #434B5C;\n",
       "      box-shadow: 0px 1px 3px 1px rgba(0, 0, 0, 0.15);\n",
       "      filter: drop-shadow(0px 1px 2px rgba(0, 0, 0, 0.3));\n",
       "      fill: #FFFFFF;\n",
       "    }\n",
       "  </style>\n",
       "\n",
       "      <script>\n",
       "        const buttonEl =\n",
       "          document.querySelector('#df-34c43db5-110c-4b7a-88a6-6efda0ec4aae button.colab-df-convert');\n",
       "        buttonEl.style.display =\n",
       "          google.colab.kernel.accessAllowed ? 'block' : 'none';\n",
       "\n",
       "        async function convertToInteractive(key) {\n",
       "          const element = document.querySelector('#df-34c43db5-110c-4b7a-88a6-6efda0ec4aae');\n",
       "          const dataTable =\n",
       "            await google.colab.kernel.invokeFunction('convertToInteractive',\n",
       "                                                     [key], {});\n",
       "          if (!dataTable) return;\n",
       "\n",
       "          const docLinkHtml = 'Like what you see? Visit the ' +\n",
       "            '<a target=\"_blank\" href=https://colab.research.google.com/notebooks/data_table.ipynb>data table notebook</a>'\n",
       "            + ' to learn more about interactive tables.';\n",
       "          element.innerHTML = '';\n",
       "          dataTable['output_type'] = 'display_data';\n",
       "          await google.colab.output.renderOutput(dataTable, element);\n",
       "          const docLink = document.createElement('div');\n",
       "          docLink.innerHTML = docLinkHtml;\n",
       "          element.appendChild(docLink);\n",
       "        }\n",
       "      </script>\n",
       "    </div>\n",
       "  </div>\n",
       "  "
      ],
      "text/plain": [
       "     0    1    2    3    4    5    6  TargetColumn  Prediction\n",
       "0  0.0  0.0  0.0  0.0  0.0  1.0  4.0           3.0         8.0\n",
       "1  0.0  0.0  0.0  0.0  0.0  0.0  3.0           4.0         5.0\n",
       "2  0.0  0.0  0.0  0.0  1.0  0.0  3.0           4.0         5.0\n",
       "3  0.0  0.0  0.0  0.0  0.0  0.0  3.0          13.0         5.0\n",
       "4  0.0  0.0  0.0  0.0  0.0  0.0  3.0           9.0         5.0"
      ]
     },
     "execution_count": 59,
     "metadata": {},
     "output_type": "execute_result"
    }
   ],
   "source": [
    "TestingDataResults=pd.DataFrame(data=X_test)\n",
    "TestingDataResults['TargetColumn']=y_test\n",
    "TestingDataResults['Prediction']=prediction\n",
    "TestingDataResults.head()"
   ]
  },
  {
   "cell_type": "markdown",
   "metadata": {},
   "source": [
    "# NEURAL NETWORK OPTIMIZATION AND VALIDATION"
   ]
  },
  {
   "cell_type": "code",
   "execution_count": 60,
   "metadata": {
    "id": "eUwCNtafkZ1m"
   },
   "outputs": [],
   "source": [
    "# modules\n",
    "import pandas as pd\n",
    "import numpy as np\n",
    "import matplotlib.pyplot as plt\n",
    "from sklearn.preprocessing import LabelEncoder\n",
    "from keras.wrappers.scikit_learn import KerasClassifier\n",
    "from keras.utils import np_utils\n",
    "\n",
    "# for modeling\n",
    "from keras.models import Sequential\n",
    "from keras.layers import Dense, Dropout\n",
    "from keras.callbacks import EarlyStopping"
   ]
  },
  {
   "cell_type": "code",
   "execution_count": 61,
   "metadata": {
    "colab": {
     "base_uri": "https://localhost:8080/"
    },
    "id": "7Md0ySMblFGq",
    "outputId": "71b3263c-b1ff-41bd-e6f4-b5e2c78e5ca1"
   },
   "outputs": [
    {
     "name": "stdout",
     "output_type": "stream",
     "text": [
      "Model: \"sequential_3\"\n",
      "_________________________________________________________________\n",
      " Layer (type)                Output Shape              Param #   \n",
      "=================================================================\n",
      " dense_11 (Dense)            (None, 16)                128       \n",
      "                                                                 \n",
      " dense_12 (Dense)            (None, 16)                272       \n",
      "                                                                 \n",
      " dense_13 (Dense)            (None, 1)                 17        \n",
      "                                                                 \n",
      "=================================================================\n",
      "Total params: 417\n",
      "Trainable params: 417\n",
      "Non-trainable params: 0\n",
      "_________________________________________________________________\n"
     ]
    }
   ],
   "source": [
    "model = Sequential()\n",
    "model.add(Dense(16, input_shape=(X.shape[1],), activation='relu')) # Add an input shape! (features,)\n",
    "model.add(Dense(16, activation='relu'))\n",
    "model.add(Dense(1, activation='sigmoid'))\n",
    "model.summary() "
   ]
  },
  {
   "cell_type": "code",
   "execution_count": 62,
   "metadata": {
    "id": "oyASo2PflMa8"
   },
   "outputs": [],
   "source": [
    "model.compile(optimizer='Adam', \n",
    "              loss='binary_crossentropy',\n",
    "              metrics=['accuracy'])\n"
   ]
  },
  {
   "cell_type": "code",
   "execution_count": 63,
   "metadata": {
    "colab": {
     "base_uri": "https://localhost:8080/"
    },
    "id": "cbX4o5YYlPC-",
    "outputId": "dc78a3d8-79a2-4306-908f-d4cd0ad2ef2e"
   },
   "outputs": [
    {
     "name": "stdout",
     "output_type": "stream",
     "text": [
      "Epoch 1/80\n",
      "258/258 [==============================] - 1s 3ms/step - loss: -12.7804 - accuracy: 0.0636 - val_loss: -122.7086 - val_accuracy: 0.0000e+00\n",
      "Epoch 2/80\n",
      "258/258 [==============================] - 1s 2ms/step - loss: -257.5187 - accuracy: 0.0710 - val_loss: -1590.1790 - val_accuracy: 0.0000e+00\n",
      "Epoch 3/80\n",
      "258/258 [==============================] - 1s 2ms/step - loss: -1425.5883 - accuracy: 0.0710 - val_loss: -6279.5063 - val_accuracy: 0.0000e+00\n",
      "Epoch 4/80\n",
      "258/258 [==============================] - 1s 2ms/step - loss: -4100.2124 - accuracy: 0.0710 - val_loss: -15285.5654 - val_accuracy: 0.0000e+00\n",
      "Epoch 5/80\n",
      "258/258 [==============================] - 1s 2ms/step - loss: -8704.6787 - accuracy: 0.0710 - val_loss: -29829.8574 - val_accuracy: 0.0000e+00\n",
      "Epoch 6/80\n",
      "258/258 [==============================] - 1s 2ms/step - loss: -15751.5859 - accuracy: 0.0710 - val_loss: -50886.9883 - val_accuracy: 0.0000e+00\n",
      "Epoch 7/80\n",
      "258/258 [==============================] - 1s 2ms/step - loss: -25443.6543 - accuracy: 0.0710 - val_loss: -78762.0391 - val_accuracy: 0.0000e+00\n",
      "Epoch 8/80\n",
      "258/258 [==============================] - 1s 2ms/step - loss: -37924.6328 - accuracy: 0.0710 - val_loss: -114018.7266 - val_accuracy: 0.0000e+00\n",
      "Epoch 9/80\n",
      "258/258 [==============================] - 1s 2ms/step - loss: -53327.2383 - accuracy: 0.0710 - val_loss: -156622.3438 - val_accuracy: 0.0000e+00\n",
      "Epoch 10/80\n",
      "258/258 [==============================] - 1s 2ms/step - loss: -71837.4844 - accuracy: 0.0710 - val_loss: -207389.5156 - val_accuracy: 0.0000e+00\n",
      "Epoch 11/80\n",
      "258/258 [==============================] - 1s 2ms/step - loss: -93527.3594 - accuracy: 0.0710 - val_loss: -266381.2812 - val_accuracy: 0.0000e+00\n"
     ]
    }
   ],
   "source": [
    "es = EarlyStopping(monitor='val_accuracy', \n",
    "                                   mode='max', # don't minimize the accuracy!\n",
    "                                   patience=10,\n",
    "                                   restore_best_weights=True)\n",
    "\n",
    "# now we just update our model fit call\n",
    "history = model.fit(X,\n",
    "                    y,\n",
    "                    callbacks=[es],\n",
    "                    epochs=80, # you can set this to a big number!\n",
    "                    batch_size=10,\n",
    "                    validation_split=0.2,\n",
    "                    shuffle=True,\n",
    "                    verbose=1)"
   ]
  },
  {
   "cell_type": "code",
   "execution_count": 64,
   "metadata": {
    "colab": {
     "base_uri": "https://localhost:8080/",
     "height": 295
    },
    "id": "zpPefOUPlT9i",
    "outputId": "1a146186-890f-4b3a-b6b2-ec2110dbb4c6"
   },
   "outputs": [
    {
     "data": {
      "image/png": "[encoded data removed]",
      "text/plain": [
       "<Figure size 432x288 with 1 Axes>"
      ]
     },
     "metadata": {
      "needs_background": "light"
     },
     "output_type": "display_data"
    }
   ],
   "source": [
    "history_dict = history.history\n",
    "# Learning curve(Loss)\n",
    "# let's see the training and validation loss by epoch\n",
    "\n",
    "# loss\n",
    "loss_values = history_dict['loss'] # you can change this\n",
    "val_loss_values = history_dict['val_loss'] # you can also change this\n",
    "\n",
    "# range of X (no. of epochs)\n",
    "epochs = range(1, len(loss_values) + 1) \n",
    "\n",
    "# plot\n",
    "plt.plot(epochs, loss_values, 'bo', label='Training loss')\n",
    "plt.plot(epochs, val_loss_values, 'orange', label='Validation loss')\n",
    "plt.title('Training and validation loss')\n",
    "plt.xlabel('Epochs')\n",
    "plt.ylabel('Loss')\n",
    "plt.legend()\n",
    "plt.show()"
   ]
  },
  {
   "cell_type": "code",
   "execution_count": 65,
   "metadata": {
    "colab": {
     "base_uri": "https://localhost:8080/",
     "height": 312
    },
    "id": "mWYlFXwrlYg8",
    "outputId": "67064387-f276-4983-e1f5-50a94c70ca6e"
   },
   "outputs": [
    {
     "data": {
      "image/png": "[encoded data removed]",
      "text/plain": [
       "<Figure size 432x288 with 1 Axes>"
      ]
     },
     "metadata": {
      "needs_background": "light"
     },
     "output_type": "display_data"
    },
    {
     "data": {
      "text/plain": [
       "0.0"
      ]
     },
     "execution_count": 65,
     "metadata": {},
     "output_type": "execute_result"
    }
   ],
   "source": [
    "# Learning curve(accuracy)\n",
    "# let's see the training and validation accuracy by epoch\n",
    "\n",
    "# accuracy\n",
    "acc = history.history['accuracy']\n",
    "val_acc = history.history['val_accuracy']\n",
    "\n",
    "# range of X (no. of epochs)\n",
    "epochs = range(1, len(acc) + 1)\n",
    "\n",
    "# plot\n",
    "# \"bo\" is for \"blue dot\"\n",
    "plt.plot(epochs, acc, 'bo', label='Training accuracy')\n",
    "# orange is for \"orange\"\n",
    "plt.plot(epochs, val_acc, 'orange', label='Validation accuracy')\n",
    "plt.title('Training and validation accuracy')\n",
    "plt.xlabel('Epochs')\n",
    "plt.ylabel('Accuracy')\n",
    "plt.legend()\n",
    "plt.show()\n",
    "\n",
    "# this is the max value - should correspond to\n",
    "# the HIGHEST train accuracy\n",
    "np.max(val_acc)"
   ]
  },
  {
   "cell_type": "code",
   "execution_count": 66,
   "metadata": {
    "colab": {
     "base_uri": "https://localhost:8080/"
    },
    "id": "N-9mV4UtldlC",
    "outputId": "859693f2-70ef-488e-b11a-332877ceb550"
   },
   "outputs": [
    {
     "name": "stdout",
     "output_type": "stream",
     "text": [
      "101/101 [==============================] - 0s 1ms/step\n",
      "101/101 [==============================] - 0s 1ms/step\n",
      "101/101 [==============================] - 0s 1ms/step\n",
      "[[183   0   0   0   0   0   0   0   0   0   0   0   0   0   0   0   0   0\n",
      "    0   0]\n",
      " [ 79   0   0   0   0   0   0   0   0   0   0   0   0   0   0   0   0   0\n",
      "    0   0]\n",
      " [ 84   0   0   0   0   0   0   0   0   0   0   0   0   0   0   0   0   0\n",
      "    0   0]\n",
      " [315   0   0   0   0   0   0   0   0   0   0   0   0   0   0   0   0   0\n",
      "    0   0]\n",
      " [299   0   0   0   0   0   0   0   0   0   0   0   0   0   0   0   0   0\n",
      "    0   0]\n",
      " [134   0   0   0   0   0   0   0   0   0   0   0   0   0   0   0   0   0\n",
      "    0   0]\n",
      " [124   0   0   0   0   0   0   0   0   0   0   0   0   0   0   0   0   0\n",
      "    0   0]\n",
      " [ 97   0   0   0   0   0   0   0   0   0   0   0   0   0   0   0   0   0\n",
      "    0   0]\n",
      " [174   0   0   0   0   0   0   0   0   0   0   0   0   0   0   0   0   0\n",
      "    0   0]\n",
      " [144   0   0   0   0   0   0   0   0   0   0   0   0   0   0   0   0   0\n",
      "    0   0]\n",
      " [225   0   0   0   0   0   0   0   0   0   0   0   0   0   0   0   0   0\n",
      "    0   0]\n",
      " [199   0   0   0   0   0   0   0   0   0   0   0   0   0   0   0   0   0\n",
      "    0   0]\n",
      " [179   0   0   0   0   0   0   0   0   0   0   0   0   0   0   0   0   0\n",
      "    0   0]\n",
      " [123   0   0   0   0   0   0   0   0   0   0   0   0   0   0   0   0   0\n",
      "    0   0]\n",
      " [ 85   0   0   0   0   0   0   0   0   0   0   0   0   0   0   0   0   0\n",
      "    0   0]\n",
      " [ 76   0   0   0   0   0   0   0   0   0   0   0   0   0   0   0   0   0\n",
      "    0   0]\n",
      " [ 97   0   0   0   0   0   0   0   0   0   0   0   0   0   0   0   0   0\n",
      "    0   0]\n",
      " [184   0   0   0   0   0   0   0   0   0   0   0   0   0   0   0   0   0\n",
      "    0   0]\n",
      " [261   0   0   0   0   0   0   0   0   0   0   0   0   0   0   0   0   0\n",
      "    0   0]\n",
      " [162   0   0   0   0   0   0   0   0   0   0   0   0   0   0   0   0   0\n",
      "    0   0]]\n",
      "              precision    recall  f1-score   support\n",
      "\n",
      "         1.0       0.06      1.00      0.11       183\n",
      "         2.0       0.00      0.00      0.00        79\n",
      "         3.0       0.00      0.00      0.00        84\n",
      "         4.0       0.00      0.00      0.00       315\n",
      "         5.0       0.00      0.00      0.00       299\n",
      "         6.0       0.00      0.00      0.00       134\n",
      "         7.0       0.00      0.00      0.00       124\n",
      "         8.0       0.00      0.00      0.00        97\n",
      "         9.0       0.00      0.00      0.00       174\n",
      "        10.0       0.00      0.00      0.00       144\n",
      "        11.0       0.00      0.00      0.00       225\n",
      "        12.0       0.00      0.00      0.00       199\n",
      "        13.0       0.00      0.00      0.00       179\n",
      "        14.0       0.00      0.00      0.00       123\n",
      "        15.0       0.00      0.00      0.00        85\n",
      "        16.0       0.00      0.00      0.00        76\n",
      "        17.0       0.00      0.00      0.00        97\n",
      "        18.0       0.00      0.00      0.00       184\n",
      "        19.0       0.00      0.00      0.00       261\n",
      "        20.0       0.00      0.00      0.00       162\n",
      "\n",
      "    accuracy                           0.06      3224\n",
      "   macro avg       0.00      0.05      0.01      3224\n",
      "weighted avg       0.00      0.06      0.01      3224\n",
      "\n"
     ]
    },
    {
     "name": "stderr",
     "output_type": "stream",
     "text": [
      "/usr/local/lib/python3.8/dist-packages/sklearn/metrics/_classification.py:1318: UndefinedMetricWarning: Precision and F-score are ill-defined and being set to 0.0 in labels with no predicted samples. Use `zero_division` parameter to control this behavior.\n",
      "  _warn_prf(average, modifier, msg_start, len(result))\n",
      "/usr/local/lib/python3.8/dist-packages/sklearn/metrics/_classification.py:1318: UndefinedMetricWarning: Precision and F-score are ill-defined and being set to 0.0 in labels with no predicted samples. Use `zero_division` parameter to control this behavior.\n",
      "  _warn_prf(average, modifier, msg_start, len(result))\n",
      "/usr/local/lib/python3.8/dist-packages/sklearn/metrics/_classification.py:1318: UndefinedMetricWarning: Precision and F-score are ill-defined and being set to 0.0 in labels with no predicted samples. Use `zero_division` parameter to control this behavior.\n",
      "  _warn_prf(average, modifier, msg_start, len(result))\n"
     ]
    }
   ],
   "source": [
    "from sklearn.metrics import confusion_matrix\n",
    "from sklearn.metrics import classification_report\n",
    "\n",
    "# see how these are numbers between 0 and 1? \n",
    "model.predict(X) # prob of successes (survival)\n",
    "np.round(model.predict(X),0) # 1 and 0 (survival or not)\n",
    "y # 1 and 0 (survival or not)\n",
    "\n",
    "# so we need to round to a whole number (0 or 1),\n",
    "# or the confusion matrix won't work!\n",
    "preds = np.round(model.predict(X),0)\n",
    "\n",
    "# confusion matrix\n",
    "print(confusion_matrix(y, preds)) # order matters! (actual, predicted)\n",
    "\n",
    "## array([[490,  59],   ([[TN, FP],\n",
    "##       [105, 235]])     [Fn, TP]])\n",
    "\n",
    "print(classification_report(y, preds))"
   ]
  },
  {
   "cell_type": "markdown",
   "metadata": {
    "id": "e55INXKFl1RB"
   },
   "source": [
    "# Neural Network in Python (Regression)"
   ]
  },
  {
   "cell_type": "code",
   "execution_count": 67,
   "metadata": {
    "colab": {
     "base_uri": "https://localhost:8080/"
    },
    "id": "gxUw1QH-l01Z",
    "outputId": "371d2e9b-9b32-45c3-e5eb-5256d8c5ffaf"
   },
   "outputs": [
    {
     "name": "stdout",
     "output_type": "stream",
     "text": [
      "(2579, 7) (645, 7) (2579,) (645,)\n"
     ]
    }
   ],
   "source": [
    "import pandas as pd\n",
    "import matplotlib.pyplot as plt\n",
    "import numpy as np\n",
    "\n",
    "# Data preprocessing\n",
    "from sklearn.preprocessing import MinMaxScaler\n",
    "from sklearn.model_selection import train_test_split\n",
    "\n",
    "# Neural Net modules\n",
    "from keras.models import Sequential\n",
    "from keras.layers import Dense, Dropout\n",
    "from keras.callbacks import EarlyStopping\n",
    "X_train, X_test, y_train, y_test = train_test_split(X, y,\n",
    "                                                    test_size=0.2,\n",
    "                                                    random_state=123)\n",
    "print(X_train.shape, X_test.shape, y_train.shape, y_test.shape)\n",
    "\n",
    "# use minMax scaler\n",
    "min_max_scaler = MinMaxScaler()\n",
    "X_train = min_max_scaler.fit_transform(X_train)\n",
    "X_test = min_max_scaler.transform(X_test)"
   ]
  },
  {
   "cell_type": "code",
   "execution_count": 68,
   "metadata": {
    "colab": {
     "base_uri": "https://localhost:8080/"
    },
    "id": "tKgWwdRElmpy",
    "outputId": "4081de28-3842-4472-e02b-1303035c8534"
   },
   "outputs": [
    {
     "name": "stdout",
     "output_type": "stream",
     "text": [
      "Model: \"sequential_4\"\n",
      "_________________________________________________________________\n",
      " Layer (type)                Output Shape              Param #   \n",
      "=================================================================\n",
      " dense_14 (Dense)            (None, 1000)              8000      \n",
      "                                                                 \n",
      " dense_15 (Dense)            (None, 500)               500500    \n",
      "                                                                 \n",
      " dense_16 (Dense)            (None, 250)               125250    \n",
      "                                                                 \n",
      " dense_17 (Dense)            (None, 1)                 251       \n",
      "                                                                 \n",
      "=================================================================\n",
      "Total params: 634,001\n",
      "Trainable params: 634,001\n",
      "Non-trainable params: 0\n",
      "_________________________________________________________________\n",
      "Epoch 1/5000\n",
      "52/52 [==============================] - 2s 17ms/step - loss: 44.5322 - mae: 5.5323 - val_loss: 33.7846 - val_mae: 5.0563\n",
      "Epoch 2/5000\n",
      "52/52 [==============================] - 1s 14ms/step - loss: 35.3889 - mae: 5.0606 - val_loss: 33.6440 - val_mae: 5.0731\n",
      "Epoch 3/5000\n",
      "52/52 [==============================] - 1s 14ms/step - loss: 35.5708 - mae: 5.0733 - val_loss: 38.6005 - val_mae: 5.1829\n",
      "Epoch 4/5000\n",
      "52/52 [==============================] - 1s 14ms/step - loss: 35.2896 - mae: 5.0475 - val_loss: 37.0236 - val_mae: 5.0582\n",
      "Epoch 5/5000\n",
      "52/52 [==============================] - 1s 15ms/step - loss: 35.9370 - mae: 5.0807 - val_loss: 35.8483 - val_mae: 5.0722\n",
      "Epoch 6/5000\n",
      "52/52 [==============================] - 1s 15ms/step - loss: 35.6767 - mae: 5.0697 - val_loss: 33.5486 - val_mae: 5.0498\n",
      "Epoch 7/5000\n",
      "52/52 [==============================] - 1s 14ms/step - loss: 35.1148 - mae: 5.0402 - val_loss: 33.2216 - val_mae: 4.9903\n",
      "Epoch 8/5000\n",
      "52/52 [==============================] - 1s 14ms/step - loss: 34.6011 - mae: 5.0209 - val_loss: 34.3405 - val_mae: 5.1204\n",
      "Epoch 9/5000\n",
      "52/52 [==============================] - 1s 15ms/step - loss: 35.0537 - mae: 5.0375 - val_loss: 36.7393 - val_mae: 5.2310\n",
      "Epoch 10/5000\n",
      "52/52 [==============================] - 1s 15ms/step - loss: 34.8315 - mae: 5.0158 - val_loss: 33.3565 - val_mae: 4.9643\n",
      "Epoch 11/5000\n",
      "52/52 [==============================] - 1s 13ms/step - loss: 34.8906 - mae: 5.0304 - val_loss: 34.5162 - val_mae: 5.1452\n",
      "Epoch 12/5000\n",
      "52/52 [==============================] - 1s 14ms/step - loss: 34.7960 - mae: 5.0100 - val_loss: 33.3285 - val_mae: 5.0251\n",
      "Epoch 13/5000\n",
      "52/52 [==============================] - 1s 15ms/step - loss: 35.0339 - mae: 5.0253 - val_loss: 33.5186 - val_mae: 5.0112\n",
      "Epoch 14/5000\n",
      "52/52 [==============================] - 1s 14ms/step - loss: 34.8935 - mae: 5.0378 - val_loss: 33.6679 - val_mae: 4.9826\n",
      "Epoch 15/5000\n",
      "52/52 [==============================] - 1s 14ms/step - loss: 34.6659 - mae: 5.0092 - val_loss: 33.6505 - val_mae: 4.9890\n",
      "Epoch 16/5000\n",
      "52/52 [==============================] - 1s 14ms/step - loss: 34.6647 - mae: 5.0211 - val_loss: 34.0751 - val_mae: 4.9987\n",
      "Epoch 17/5000\n",
      "52/52 [==============================] - 1s 14ms/step - loss: 34.7169 - mae: 5.0084 - val_loss: 33.3718 - val_mae: 4.9870\n",
      "Epoch 18/5000\n",
      "52/52 [==============================] - 1s 14ms/step - loss: 34.8609 - mae: 5.0281 - val_loss: 34.4849 - val_mae: 5.0097\n",
      "Epoch 19/5000\n",
      "52/52 [==============================] - 1s 14ms/step - loss: 34.5477 - mae: 4.9948 - val_loss: 37.2752 - val_mae: 5.2712\n",
      "Epoch 20/5000\n",
      "52/52 [==============================] - 1s 14ms/step - loss: 34.5018 - mae: 5.0080 - val_loss: 34.1172 - val_mae: 4.9987\n",
      "Epoch 21/5000\n",
      "52/52 [==============================] - 1s 14ms/step - loss: 34.5319 - mae: 5.0244 - val_loss: 35.3046 - val_mae: 5.0358\n",
      "Epoch 22/5000\n",
      "52/52 [==============================] - 1s 14ms/step - loss: 34.5847 - mae: 5.0146 - val_loss: 33.4789 - val_mae: 4.9887\n",
      "Epoch 23/5000\n",
      "52/52 [==============================] - 1s 14ms/step - loss: 34.7275 - mae: 5.0198 - val_loss: 35.8876 - val_mae: 5.1819\n",
      "Epoch 24/5000\n",
      "52/52 [==============================] - 1s 14ms/step - loss: 34.3963 - mae: 5.0118 - val_loss: 33.8992 - val_mae: 5.0146\n",
      "Epoch 25/5000\n",
      "52/52 [==============================] - 1s 14ms/step - loss: 34.6178 - mae: 5.0219 - val_loss: 33.5443 - val_mae: 5.0159\n",
      "Epoch 26/5000\n",
      "52/52 [==============================] - 1s 14ms/step - loss: 34.6718 - mae: 5.0390 - val_loss: 34.6964 - val_mae: 5.0257\n",
      "Epoch 27/5000\n",
      "52/52 [==============================] - 1s 14ms/step - loss: 34.4987 - mae: 4.9986 - val_loss: 34.8565 - val_mae: 5.0251\n",
      "Epoch 28/5000\n",
      "52/52 [==============================] - 1s 14ms/step - loss: 34.6671 - mae: 5.0258 - val_loss: 33.7841 - val_mae: 4.9965\n",
      "Epoch 29/5000\n",
      "52/52 [==============================] - 1s 14ms/step - loss: 34.4812 - mae: 4.9981 - val_loss: 33.4253 - val_mae: 4.9723\n",
      "Epoch 30/5000\n",
      "52/52 [==============================] - 1s 14ms/step - loss: 34.2997 - mae: 4.9916 - val_loss: 34.9297 - val_mae: 5.0902\n",
      "Epoch 31/5000\n",
      "52/52 [==============================] - 1s 14ms/step - loss: 34.6227 - mae: 5.0224 - val_loss: 33.6262 - val_mae: 5.0158\n",
      "Epoch 32/5000\n",
      "52/52 [==============================] - 1s 14ms/step - loss: 34.3304 - mae: 4.9967 - val_loss: 33.9878 - val_mae: 5.0398\n",
      "Epoch 33/5000\n",
      "52/52 [==============================] - 1s 15ms/step - loss: 34.4748 - mae: 5.0117 - val_loss: 33.6607 - val_mae: 4.9821\n",
      "Epoch 34/5000\n",
      "52/52 [==============================] - 1s 14ms/step - loss: 34.3178 - mae: 4.9928 - val_loss: 33.4300 - val_mae: 4.9848\n",
      "Epoch 35/5000\n",
      "52/52 [==============================] - 1s 14ms/step - loss: 34.5040 - mae: 5.0137 - val_loss: 34.8439 - val_mae: 5.1523\n",
      "Epoch 36/5000\n",
      "52/52 [==============================] - 1s 14ms/step - loss: 34.4333 - mae: 5.0104 - val_loss: 34.6828 - val_mae: 5.1487\n",
      "Epoch 37/5000\n",
      "52/52 [==============================] - 1s 15ms/step - loss: 34.5234 - mae: 5.0158 - val_loss: 34.9639 - val_mae: 5.1603\n",
      "Epoch 38/5000\n",
      "52/52 [==============================] - 1s 16ms/step - loss: 34.3800 - mae: 4.9958 - val_loss: 33.4393 - val_mae: 5.0091\n",
      "Epoch 39/5000\n",
      "52/52 [==============================] - 1s 13ms/step - loss: 34.4278 - mae: 5.0043 - val_loss: 34.5140 - val_mae: 5.1465\n",
      "Epoch 40/5000\n",
      "52/52 [==============================] - 1s 14ms/step - loss: 34.2786 - mae: 5.0057 - val_loss: 33.7210 - val_mae: 4.9771\n",
      "Epoch 41/5000\n",
      "52/52 [==============================] - 1s 14ms/step - loss: 34.2078 - mae: 4.9854 - val_loss: 33.5241 - val_mae: 5.0123\n",
      "Epoch 42/5000\n",
      "52/52 [==============================] - 1s 14ms/step - loss: 34.0775 - mae: 4.9753 - val_loss: 33.4882 - val_mae: 5.0004\n",
      "Epoch 43/5000\n",
      "52/52 [==============================] - 1s 14ms/step - loss: 34.4874 - mae: 5.0093 - val_loss: 33.8002 - val_mae: 4.9939\n",
      "Epoch 44/5000\n",
      "52/52 [==============================] - 1s 14ms/step - loss: 34.1465 - mae: 4.9804 - val_loss: 33.9742 - val_mae: 5.0762\n",
      "Epoch 45/5000\n",
      "52/52 [==============================] - 1s 14ms/step - loss: 34.2507 - mae: 4.9919 - val_loss: 33.5267 - val_mae: 4.9957\n",
      "Epoch 46/5000\n",
      "52/52 [==============================] - 1s 14ms/step - loss: 34.1080 - mae: 4.9759 - val_loss: 33.5161 - val_mae: 5.0203\n",
      "Epoch 47/5000\n",
      "52/52 [==============================] - 1s 14ms/step - loss: 34.2454 - mae: 4.9872 - val_loss: 35.0796 - val_mae: 5.0272\n",
      "Epoch 48/5000\n",
      "52/52 [==============================] - 1s 14ms/step - loss: 34.2763 - mae: 4.9844 - val_loss: 33.3071 - val_mae: 4.9876\n",
      "Epoch 49/5000\n",
      "52/52 [==============================] - 1s 14ms/step - loss: 33.9806 - mae: 4.9841 - val_loss: 33.7382 - val_mae: 4.9946\n",
      "Epoch 50/5000\n",
      "52/52 [==============================] - 1s 14ms/step - loss: 34.1804 - mae: 4.9958 - val_loss: 33.3646 - val_mae: 4.9899\n",
      "Epoch 51/5000\n",
      "52/52 [==============================] - 1s 14ms/step - loss: 34.3933 - mae: 4.9962 - val_loss: 34.9480 - val_mae: 5.0431\n",
      "Epoch 52/5000\n",
      "52/52 [==============================] - 1s 14ms/step - loss: 34.2849 - mae: 4.9908 - val_loss: 34.4404 - val_mae: 4.9996\n",
      "Epoch 53/5000\n",
      "52/52 [==============================] - 1s 14ms/step - loss: 34.1432 - mae: 4.9849 - val_loss: 37.2891 - val_mae: 5.2814\n",
      "Epoch 54/5000\n",
      "52/52 [==============================] - 1s 14ms/step - loss: 34.2869 - mae: 4.9956 - val_loss: 33.3899 - val_mae: 5.0033\n",
      "Epoch 55/5000\n",
      "52/52 [==============================] - 1s 15ms/step - loss: 34.1857 - mae: 4.9827 - val_loss: 34.3129 - val_mae: 5.0972\n",
      "Epoch 56/5000\n",
      "52/52 [==============================] - 1s 14ms/step - loss: 34.2280 - mae: 4.9840 - val_loss: 36.2056 - val_mae: 5.0786\n",
      "Epoch 57/5000\n",
      "52/52 [==============================] - 1s 14ms/step - loss: 34.1068 - mae: 4.9872 - val_loss: 33.7683 - val_mae: 5.0104\n"
     ]
    }
   ],
   "source": [
    "# build the model!\n",
    "model = Sequential()\n",
    "model.add(Dense(1000, input_shape=(X_train.shape[1],), activation='relu')) # (features,)\n",
    "model.add(Dense(500, activation='relu'))\n",
    "model.add(Dense(250, activation='relu'))\n",
    "model.add(Dense(1, activation='linear')) # output node\n",
    "model.summary() # see what your model looks like\n",
    "\n",
    "# compile the model\n",
    "model.compile(optimizer='rmsprop', loss='mse', metrics=['mae'])\n",
    "\n",
    "# early stopping callback\n",
    "es = EarlyStopping(monitor='val_loss',\n",
    "                   mode='min',\n",
    "                   patience=50,\n",
    "                   restore_best_weights = True)\n",
    "\n",
    "# fit the model!\n",
    "# attach it to a new variable called 'history' in case\n",
    "# to look at the learning curves\n",
    "history = model.fit(X_train, y_train,\n",
    "                    validation_data = (X_test, y_test),\n",
    "                    callbacks=[es],\n",
    "                    epochs=5000,\n",
    "                    batch_size=50,\n",
    "                    verbose=1)"
   ]
  },
  {
   "cell_type": "code",
   "execution_count": 86,
   "metadata": {
    "colab": {
     "base_uri": "https://localhost:8080/",
     "height": 295
    },
    "id": "HRBUoOa-mBJg",
    "outputId": "277c8664-6a53-4330-d305-5d6a07cef0d9"
   },
   "outputs": [
    {
     "data": {
      "image/png": "[encoded data removed]",
      "text/plain": [
       "<Figure size 432x288 with 1 Axes>"
      ]
     },
     "metadata": {
      "needs_background": "light"
     },
     "output_type": "display_data"
    }
   ],
   "source": [
    "# let's see the training and validation accuracy by epoch\n",
    "history_dict = history.history\n",
    "loss_values = history_dict['loss'] # you can change this\n",
    "val_loss_values = history_dict['val_loss'] # you can also change this\n",
    "epochs = range(1, len(loss_values) + 1) # range of X (no. of epochs)\n",
    "plt.plot(epochs, loss_values, 'bo', label='Training loss')\n",
    "plt.plot(epochs, val_loss_values, 'orange', label='Validation loss')\n",
    "plt.title('Training and validation loss')\n",
    "plt.xlabel('Epochs')\n",
    "plt.ylabel('Loss')\n",
    "plt.legend()\n",
    "plt.show()"
   ]
  },
  {
   "cell_type": "code",
   "execution_count": 91,
   "metadata": {
    "colab": {
     "base_uri": "https://localhost:8080/"
    },
    "id": "8ygIGMohmW2R",
    "outputId": "3cde3532-ac6b-40db-c584-76fcae45aab4"
   },
   "outputs": [
    {
     "name": "stdout",
     "output_type": "stream",
     "text": [
      "Model: \"sequential_6\"\n",
      "_________________________________________________________________\n",
      " Layer (type)                Output Shape              Param #   \n",
      "=================================================================\n",
      " dense_22 (Dense)            (None, 1000)              8000      \n",
      "                                                                 \n",
      " dropout_6 (Dropout)         (None, 1000)              0         \n",
      "                                                                 \n",
      " dense_23 (Dense)            (None, 500)               500500    \n",
      "                                                                 \n",
      " dropout_7 (Dropout)         (None, 500)               0         \n",
      "                                                                 \n",
      " dense_24 (Dense)            (None, 250)               125250    \n",
      "                                                                 \n",
      " dropout_8 (Dropout)         (None, 250)               0         \n",
      "                                                                 \n",
      " dense_25 (Dense)            (None, 1)                 251       \n",
      "                                                                 \n",
      "=================================================================\n",
      "Total params: 634,001\n",
      "Trainable params: 634,001\n",
      "Non-trainable params: 0\n",
      "_________________________________________________________________\n"
     ]
    }
   ],
   "source": [
    "from keras.layers import Dense, Dropout\n",
    "\n",
    "# Insert the dropout layer\n",
    "model = Sequential()\n",
    "model.add(Dense(1000, input_shape=(X_train.shape[1],), activation='relu')) # (features,)\n",
    "model.add(Dropout(0.5)) # specify a percentage between 0 and 0.5, or larger\n",
    "model.add(Dense(500, activation='relu'))\n",
    "model.add(Dropout(0.5)) # specify a percentage between 0 and 0.5, or larger\n",
    "model.add(Dense(250, activation='relu'))\n",
    "model.add(Dropout(0.5)) # specify a percentage between 0 and 0.5, or larger\n",
    "model.add(Dense(1, activation='linear')) # output node\n",
    "model.summary() # see what your model looks like"
   ]
  },
  {
   "cell_type": "code",
   "execution_count": 92,
   "metadata": {
    "id": "hW-JtrlwmaLE"
   },
   "outputs": [],
   "source": [
    "x_train, x_test, y_train, y_test = train_test_split(\n",
    "     X, y, test_size=8, random_state=0 )"
   ]
  },
  {
   "cell_type": "code",
   "execution_count": 93,
   "metadata": {
    "id": "DTpW0bXtm7xd"
   },
   "outputs": [],
   "source": [
    "import numpy as np\n",
    "from sklearn.linear_model import LinearRegression\n",
    "from sklearn.model_selection import train_test_split"
   ]
  },
  {
   "cell_type": "code",
   "execution_count": 94,
   "metadata": {
    "colab": {
     "base_uri": "https://localhost:8080/"
    },
    "id": "TV--zk8tm_dc",
    "outputId": "5e1cc471-e4b8-44e5-e00a-c19ef9694366"
   },
   "outputs": [
    {
     "data": {
      "text/plain": [
       "11.711494592853413"
      ]
     },
     "execution_count": 94,
     "metadata": {},
     "output_type": "execute_result"
    }
   ],
   "source": [
    "model = LinearRegression().fit(x_train, y_train)\n",
    "model.intercept_"
   ]
  },
  {
   "cell_type": "code",
   "execution_count": 95,
   "metadata": {
    "colab": {
     "base_uri": "https://localhost:8080/"
    },
    "id": "z2sW_jg4nCyz",
    "outputId": "70b283c3-6cae-48b2-99df-3038c8bb9311"
   },
   "outputs": [
    {
     "data": {
      "text/plain": [
       "array([-1.78694786, -1.94986183,  0.80538642,  3.55166158, -0.07670776,\n",
       "       -0.37369733, -0.42984613])"
      ]
     },
     "execution_count": 95,
     "metadata": {},
     "output_type": "execute_result"
    }
   ],
   "source": [
    "model.coef_"
   ]
  },
  {
   "cell_type": "code",
   "execution_count": 96,
   "metadata": {
    "colab": {
     "base_uri": "https://localhost:8080/"
    },
    "id": "piSTpJgDnFq9",
    "outputId": "f1e1b3ba-18c3-4669-e6cf-e3f8ce85eb15"
   },
   "outputs": [
    {
     "data": {
      "text/plain": [
       "0.009321667146244272"
      ]
     },
     "execution_count": 96,
     "metadata": {},
     "output_type": "execute_result"
    }
   ],
   "source": [
    "model.score(x_train, y_train)"
   ]
  },
  {
   "cell_type": "code",
   "execution_count": 97,
   "metadata": {
    "colab": {
     "base_uri": "https://localhost:8080/"
    },
    "id": "_l4u-6pSnH39",
    "outputId": "4e88af5f-267b-449b-e1bd-61d9226f70bf"
   },
   "outputs": [
    {
     "data": {
      "text/plain": [
       "0.03230203655485586"
      ]
     },
     "execution_count": 97,
     "metadata": {},
     "output_type": "execute_result"
    }
   ],
   "source": [
    "model.score(x_test, y_test)"
   ]
  },
  {
   "cell_type": "code",
   "execution_count": 98,
   "metadata": {
    "id": "2XSSlZBinKYn"
   },
   "outputs": [],
   "source": [
    "from sklearn.datasets import load_boston\n",
    "from sklearn.model_selection import train_test_split"
   ]
  },
  {
   "cell_type": "code",
   "execution_count": 99,
   "metadata": {
    "colab": {
     "base_uri": "https://localhost:8080/"
    },
    "id": "yGY7vU3gnQar",
    "outputId": "85dd7a1b-057e-4b30-ec74-f57c47b6414b"
   },
   "outputs": [
    {
     "name": "stderr",
     "output_type": "stream",
     "text": [
      "/usr/local/lib/python3.8/dist-packages/sklearn/utils/deprecation.py:87: FutureWarning: Function load_boston is deprecated; `load_boston` is deprecated in 1.0 and will be removed in 1.2.\n",
      "\n",
      "    The Boston housing prices dataset has an ethical problem. You can refer to\n",
      "    the documentation of this function for further details.\n",
      "\n",
      "    The scikit-learn maintainers therefore strongly discourage the use of this\n",
      "    dataset unless the purpose of the code is to study and educate about\n",
      "    ethical issues in data science and machine learning.\n",
      "\n",
      "    In this special case, you can fetch the dataset from the original\n",
      "    source::\n",
      "\n",
      "        import pandas as pd\n",
      "        import numpy as np\n",
      "\n",
      "\n",
      "        data_url = \"http://lib.stat.cmu.edu/datasets/boston\"\n",
      "        raw_df = pd.read_csv(data_url, sep=\"\\s+\", skiprows=22, header=None)\n",
      "        data = np.hstack([raw_df.values[::2, :], raw_df.values[1::2, :2]])\n",
      "        target = raw_df.values[1::2, 2]\n",
      "\n",
      "    Alternative datasets include the California housing dataset (i.e.\n",
      "    :func:`~sklearn.datasets.fetch_california_housing`) and the Ames housing\n",
      "    dataset. You can load the datasets as follows::\n",
      "\n",
      "        from sklearn.datasets import fetch_california_housing\n",
      "        housing = fetch_california_housing()\n",
      "\n",
      "    for the California housing dataset and::\n",
      "\n",
      "        from sklearn.datasets import fetch_openml\n",
      "        housing = fetch_openml(name=\"house_prices\", as_frame=True)\n",
      "\n",
      "    for the Ames housing dataset.\n",
      "    \n",
      "  warnings.warn(msg, category=FutureWarning)\n"
     ]
    }
   ],
   "source": [
    "X, y = load_boston(return_X_y=True)"
   ]
  },
  {
   "cell_type": "code",
   "execution_count": 100,
   "metadata": {
    "colab": {
     "base_uri": "https://localhost:8080/"
    },
    "id": "yBH23ZyqnTFj",
    "outputId": "3bde3447-f2ab-4123-f241-804446429d49"
   },
   "outputs": [
    {
     "data": {
      "text/plain": [
       "0.01360155721592815"
      ]
     },
     "execution_count": 100,
     "metadata": {},
     "output_type": "execute_result"
    }
   ],
   "source": [
    "from sklearn.ensemble import GradientBoostingRegressor\n",
    "model = GradientBoostingRegressor(random_state=0).fit(x_train, y_train)\n",
    "model.score(x_train, y_train)"
   ]
  },
  {
   "cell_type": "code",
   "execution_count": 101,
   "metadata": {
    "colab": {
     "base_uri": "https://localhost:8080/"
    },
    "id": "yt0Khhq2neU9",
    "outputId": "3664c1be-9e1f-43e5-ba5b-10c4953afac8"
   },
   "outputs": [
    {
     "data": {
      "text/plain": [
       "0.03393541334664052"
      ]
     },
     "execution_count": 101,
     "metadata": {},
     "output_type": "execute_result"
    }
   ],
   "source": [
    "model.score(x_test, y_test)"
   ]
  },
  {
   "cell_type": "code",
   "execution_count": 102,
   "metadata": {
    "colab": {
     "base_uri": "https://localhost:8080/"
    },
    "id": "UrzVsjAGngCm",
    "outputId": "f0f8deea-5d83-4a06-a281-6775fce917f0"
   },
   "outputs": [
    {
     "data": {
      "text/plain": [
       "0.013504593319238034"
      ]
     },
     "execution_count": 102,
     "metadata": {},
     "output_type": "execute_result"
    }
   ],
   "source": [
    "\n",
    "from sklearn.ensemble import RandomForestRegressor\n",
    "model = RandomForestRegressor(random_state=0).fit(x_train, y_train)\n",
    "model.score(x_train, y_train)"
   ]
  },
  {
   "cell_type": "code",
   "execution_count": 103,
   "metadata": {
    "colab": {
     "base_uri": "https://localhost:8080/"
    },
    "id": "T03tktUknjZ8",
    "outputId": "30b9be6b-3d9b-4133-ae24-7fcec18b707d"
   },
   "outputs": [
    {
     "data": {
      "text/plain": [
       "0.03061921195933981"
      ]
     },
     "execution_count": 103,
     "metadata": {},
     "output_type": "execute_result"
    }
   ],
   "source": [
    "model.score(x_test, y_test)"
   ]
  },
  {
   "cell_type": "markdown",
   "metadata": {},
   "source": [
    "# GENERAL LINEAR REGRESSION MODEL"
   ]
  },
  {
   "cell_type": "code",
   "execution_count": 109,
   "metadata": {
    "id": "nPKU8ebB0dgd"
   },
   "outputs": [],
   "source": [
    "# Imports\n",
    "import numpy as np\n",
    "import matplotlib.pyplot as plt\n",
    "\n",
    "from sklearn.linear_model import LogisticRegression\n",
    "from sklearn.model_selection import cross_val_score"
   ]
  },
  {
   "cell_type": "code",
   "execution_count": 110,
   "metadata": {
    "id": "i1kprVDdnlG6"
   },
   "outputs": [],
   "source": [
    "# @title Plotting Functions\n",
    "\n",
    "def plot_weights(models, sharey=True):\n",
    "  \"\"\"Draw a stem plot of weights for each model in models dict.\"\"\"\n",
    "  n = len(models)\n",
    "  f = plt.figure(figsize=(10, 2.5 * n))\n",
    "  axs = f.subplots(n, sharex=True, sharey=sharey)\n",
    "  axs = np.atleast_1d(axs)\n",
    "\n",
    "  for ax, (title, model) in zip(axs, models.items()):\n",
    "\n",
    "    ax.margins(x=.02)\n",
    "    stem = ax.stem(model.coef_.squeeze(), use_line_collection=True)\n",
    "    stem[0].set_marker(\".\")\n",
    "    stem[0].set_color(\".2\")\n",
    "    stem[1].set_linewidths(.5)\n",
    "    stem[1].set_color(\".2\")\n",
    "    stem[2].set_visible(False)\n",
    "    ax.axhline(0, color=\"C3\", lw=3)\n",
    "    ax.set(ylabel=\"Weight\", title=title)\n",
    "  ax.set(xlabel=\"Neuron (a.k.a. feature)\")\n",
    "  f.tight_layout()\n",
    "\n",
    "\n",
    "def plot_function(f, name, var, points=(-10, 10)):\n",
    "    \"\"\"Evaluate f() on linear space between points and plot.\n",
    "\n",
    "    Args:\n",
    "      f (callable): function that maps scalar -> scalar\n",
    "      name (string): Function name for axis labels\n",
    "      var (string): Variable name for axis labels.\n",
    "      points (tuple): Args for np.linspace to create eval grid.\n",
    "    \"\"\"\n",
    "    x = np.linspace(*points)\n",
    "    ax = plt.figure().subplots()\n",
    "    ax.plot(x, f(x))\n",
    "    ax.set(\n",
    "      xlabel=f'${var}$',\n",
    "      ylabel=f'${name}({var})$'\n",
    "    )\n",
    "\n",
    "\n",
    "def plot_model_selection(C_values, accuracies):\n",
    "  \"\"\"Plot the accuracy curve over log-spaced C values.\"\"\"\n",
    "  ax = plt.figure().subplots()\n",
    "  ax.set_xscale(\"log\")\n",
    "  ax.plot(C_values, accuracies, marker=\"o\")\n",
    "  best_C = C_values[np.argmax(accuracies)]\n",
    "  ax.set(\n",
    "      xticks=C_values,\n",
    "      xlabel=\"$C$\",\n",
    "      ylabel=\"Cross-validated accuracy\",\n",
    "      title=f\"Best C: {best_C:1g} ({np.max(accuracies):.2%})\",\n",
    "  )\n",
    "\n",
    "def plot_non_zero_coefs(C_values, non_zero_l1, n_voxels):\n",
    "  \"\"\"Plot the accuracy curve over log-spaced C values.\"\"\"\n",
    "  ax = plt.figure().subplots()\n",
    "  ax.set_xscale(\"log\")\n",
    "  ax.plot(C_values, non_zero_l1, marker=\"o\")\n",
    "  ax.set(\n",
    "    xticks=C_values,\n",
    "    xlabel=\"$C$\",\n",
    "    ylabel=\"Number of non-zero coefficients\",\n",
    "  )\n",
    "  ax.axhline(n_voxels, color=\".1\", linestyle=\":\")\n",
    "  ax.annotate(\"Total\\n# Neurons\", (C_values[0], n_voxels * .98), va=\"top\")"
   ]
  },
  {
   "cell_type": "code",
   "execution_count": 105,
   "metadata": {
    "id": "VgHzpL5b1hh5"
   },
   "outputs": [],
   "source": [
    "spike_data = np.loadtxt('/content/DataSetCoursework_DHA.txt')\n",
    "n,m = spike_data.shape\n",
    "spikes = spike_data[:,0:m-1]\n",
    "trial_num = np.zeros((n, 1))\n",
    "trial_num = spike_data[:,m-1]\n",
    "\n"
   ]
  },
  {
   "cell_type": "code",
   "execution_count": 111,
   "metadata": {
    "id": "is-nGqws0qac"
   },
   "outputs": [],
   "source": [
    "X = spikes\n",
    "y = trial_num"
   ]
  },
  {
   "cell_type": "code",
   "execution_count": 112,
   "metadata": {
    "colab": {
     "base_uri": "https://localhost:8080/"
    },
    "id": "PcW0-DVs0u_e",
    "outputId": "3f94f0ac-c3a8-4eca-d1b3-be23763bb3c5"
   },
   "outputs": [
    {
     "name": "stderr",
     "output_type": "stream",
     "text": [
      "/usr/local/lib/python3.8/dist-packages/sklearn/linear_model/_logistic.py:814: ConvergenceWarning: lbfgs failed to converge (status=1):\n",
      "STOP: TOTAL NO. of ITERATIONS REACHED LIMIT.\n",
      "\n",
      "Increase the number of iterations (max_iter) or scale the data as shown in:\n",
      "    https://scikit-learn.org/stable/modules/preprocessing.html\n",
      "Please also refer to the documentation for alternative solver options:\n",
      "    https://scikit-learn.org/stable/modules/linear_model.html#logistic-regression\n",
      "  n_iter_i = _check_optimize_result(\n"
     ]
    },
    {
     "data": {
      "text/plain": [
       "LogisticRegression(penalty='none')"
      ]
     },
     "execution_count": 112,
     "metadata": {},
     "output_type": "execute_result"
    }
   ],
   "source": [
    "# Define the model\n",
    "log_reg = LogisticRegression(penalty=\"none\")\n",
    "\n",
    "# Fit it to data\n",
    "log_reg.fit(X, y)"
   ]
  },
  {
   "cell_type": "code",
   "execution_count": 113,
   "metadata": {
    "id": "F-EYnNRd0yKt"
   },
   "outputs": [],
   "source": [
    "y_pred = log_reg.predict(X)"
   ]
  },
  {
   "cell_type": "code",
   "execution_count": 114,
   "metadata": {
    "colab": {
     "base_uri": "https://localhost:8080/"
    },
    "id": "TnLENsxp00xE",
    "outputId": "8732eb54-a66c-4381-d3a5-5c1c4bef2a90"
   },
   "outputs": [
    {
     "name": "stdout",
     "output_type": "stream",
     "text": [
      "Accuracy on the training data: 23.45%\n"
     ]
    }
   ],
   "source": [
    "\n",
    "def compute_accuracy(X, y, model):\n",
    "  \"\"\"Compute accuracy of classifier predictions.\n",
    "  Args:\n",
    "    X (2D array): Data matrix\n",
    "    y (1D array): Label vector\n",
    "    model (sklearn estimator): Classifier with trained weights.\n",
    "  Returns:\n",
    "    accuracy (float): Proportion of correct predictions.\n",
    "  \"\"\"\n",
    "\n",
    "  y_pred = model.predict(X)\n",
    "\n",
    "  accuracy = (y == y_pred).mean()\n",
    "\n",
    "  return accuracy\n",
    "\n",
    "\n",
    "# Compute train accuracy\n",
    "train_accuracy = compute_accuracy(X, y, log_reg)\n",
    "print(f\"Accuracy on the training data: {train_accuracy:.2%}\")"
   ]
  },
  {
   "cell_type": "code",
   "execution_count": 115,
   "metadata": {
    "colab": {
     "base_uri": "https://localhost:8080/"
    },
    "id": "czXaVzIPptWG",
    "outputId": "5b1eaf03-819a-4d62-dd03-d9ba228d88f4"
   },
   "outputs": [
    {
     "name": "stderr",
     "output_type": "stream",
     "text": [
      "/usr/local/lib/python3.8/dist-packages/sklearn/linear_model/_logistic.py:814: ConvergenceWarning: lbfgs failed to converge (status=1):\n",
      "STOP: TOTAL NO. of ITERATIONS REACHED LIMIT.\n",
      "\n",
      "Increase the number of iterations (max_iter) or scale the data as shown in:\n",
      "    https://scikit-learn.org/stable/modules/preprocessing.html\n",
      "Please also refer to the documentation for alternative solver options:\n",
      "    https://scikit-learn.org/stable/modules/linear_model.html#logistic-regression\n",
      "  n_iter_i = _check_optimize_result(\n",
      "/usr/local/lib/python3.8/dist-packages/sklearn/linear_model/_logistic.py:814: ConvergenceWarning: lbfgs failed to converge (status=1):\n",
      "STOP: TOTAL NO. of ITERATIONS REACHED LIMIT.\n",
      "\n",
      "Increase the number of iterations (max_iter) or scale the data as shown in:\n",
      "    https://scikit-learn.org/stable/modules/preprocessing.html\n",
      "Please also refer to the documentation for alternative solver options:\n",
      "    https://scikit-learn.org/stable/modules/linear_model.html#logistic-regression\n",
      "  n_iter_i = _check_optimize_result(\n",
      "/usr/local/lib/python3.8/dist-packages/sklearn/linear_model/_logistic.py:814: ConvergenceWarning: lbfgs failed to converge (status=1):\n",
      "STOP: TOTAL NO. of ITERATIONS REACHED LIMIT.\n",
      "\n",
      "Increase the number of iterations (max_iter) or scale the data as shown in:\n",
      "    https://scikit-learn.org/stable/modules/preprocessing.html\n",
      "Please also refer to the documentation for alternative solver options:\n",
      "    https://scikit-learn.org/stable/modules/linear_model.html#logistic-regression\n",
      "  n_iter_i = _check_optimize_result(\n",
      "/usr/local/lib/python3.8/dist-packages/sklearn/linear_model/_logistic.py:814: ConvergenceWarning: lbfgs failed to converge (status=1):\n",
      "STOP: TOTAL NO. of ITERATIONS REACHED LIMIT.\n",
      "\n",
      "Increase the number of iterations (max_iter) or scale the data as shown in:\n",
      "    https://scikit-learn.org/stable/modules/preprocessing.html\n",
      "Please also refer to the documentation for alternative solver options:\n",
      "    https://scikit-learn.org/stable/modules/linear_model.html#logistic-regression\n",
      "  n_iter_i = _check_optimize_result(\n",
      "/usr/local/lib/python3.8/dist-packages/sklearn/linear_model/_logistic.py:814: ConvergenceWarning: lbfgs failed to converge (status=1):\n",
      "STOP: TOTAL NO. of ITERATIONS REACHED LIMIT.\n",
      "\n",
      "Increase the number of iterations (max_iter) or scale the data as shown in:\n",
      "    https://scikit-learn.org/stable/modules/preprocessing.html\n",
      "Please also refer to the documentation for alternative solver options:\n",
      "    https://scikit-learn.org/stable/modules/linear_model.html#logistic-regression\n",
      "  n_iter_i = _check_optimize_result(\n",
      "/usr/local/lib/python3.8/dist-packages/sklearn/linear_model/_logistic.py:814: ConvergenceWarning: lbfgs failed to converge (status=1):\n",
      "STOP: TOTAL NO. of ITERATIONS REACHED LIMIT.\n",
      "\n",
      "Increase the number of iterations (max_iter) or scale the data as shown in:\n",
      "    https://scikit-learn.org/stable/modules/preprocessing.html\n",
      "Please also refer to the documentation for alternative solver options:\n",
      "    https://scikit-learn.org/stable/modules/linear_model.html#logistic-regression\n",
      "  n_iter_i = _check_optimize_result(\n",
      "/usr/local/lib/python3.8/dist-packages/sklearn/linear_model/_logistic.py:814: ConvergenceWarning: lbfgs failed to converge (status=1):\n",
      "STOP: TOTAL NO. of ITERATIONS REACHED LIMIT.\n",
      "\n",
      "Increase the number of iterations (max_iter) or scale the data as shown in:\n",
      "    https://scikit-learn.org/stable/modules/preprocessing.html\n",
      "Please also refer to the documentation for alternative solver options:\n",
      "    https://scikit-learn.org/stable/modules/linear_model.html#logistic-regression\n",
      "  n_iter_i = _check_optimize_result(\n",
      "/usr/local/lib/python3.8/dist-packages/sklearn/linear_model/_logistic.py:814: ConvergenceWarning: lbfgs failed to converge (status=1):\n",
      "STOP: TOTAL NO. of ITERATIONS REACHED LIMIT.\n",
      "\n",
      "Increase the number of iterations (max_iter) or scale the data as shown in:\n",
      "    https://scikit-learn.org/stable/modules/preprocessing.html\n",
      "Please also refer to the documentation for alternative solver options:\n",
      "    https://scikit-learn.org/stable/modules/linear_model.html#logistic-regression\n",
      "  n_iter_i = _check_optimize_result(\n"
     ]
    }
   ],
   "source": [
    "accuracies = cross_val_score(LogisticRegression(penalty='none'), X, y, cv=8)  # k=8 cross validation"
   ]
  },
  {
   "cell_type": "code",
   "execution_count": 116,
   "metadata": {
    "colab": {
     "base_uri": "https://localhost:8080/",
     "height": 241
    },
    "id": "vIHBaH7c13R_",
    "outputId": "a670be04-b8fe-4f04-b452-3f963f32afd8"
   },
   "outputs": [
    {
     "data": {
      "image/png": "[encoded data removed]",
      "text/plain": [
       "<Figure size 576x216 with 1 Axes>"
      ]
     },
     "metadata": {
      "needs_background": "light"
     },
     "output_type": "display_data"
    }
   ],
   "source": [
    "#@title\n",
    "#@markdown Run to plot out these `k=8` accuracy scores.\n",
    "f, ax = plt.subplots(figsize=(8, 3))\n",
    "ax.boxplot(accuracies, vert=False, widths=.7)\n",
    "ax.scatter(accuracies, np.ones(8))\n",
    "ax.set(\n",
    "  xlabel=\"Accuracy\",\n",
    "  yticks=[],\n",
    "  title=f\"Average test accuracy: {accuracies.mean():.2%}\"\n",
    ")\n",
    "ax.spines[\"left\"].set_visible(False)"
   ]
  },
  {
   "cell_type": "code",
   "execution_count": 117,
   "metadata": {
    "colab": {
     "base_uri": "https://localhost:8080/"
    },
    "id": "QPrxods52jpi",
    "outputId": "1c582c1a-e2e1-41b7-9e3f-852dd292cf7f"
   },
   "outputs": [
    {
     "data": {
      "text/plain": [
       "(3224, 7)"
      ]
     },
     "execution_count": 117,
     "metadata": {},
     "output_type": "execute_result"
    }
   ],
   "source": [
    "X.shape"
   ]
  },
  {
   "cell_type": "code",
   "execution_count": 120,
   "metadata": {
    "colab": {
     "base_uri": "https://localhost:8080/",
     "height": 285
    },
    "id": "G0x6_MJA2xt0",
    "outputId": "831b5b9d-367b-48e2-a165-a70862a40d27"
   },
   "outputs": [
    {
     "data": {
      "image/png": "[encoded data removed]",
      "text/plain": [
       "<Figure size 432x288 with 1 Axes>"
      ]
     },
     "metadata": {
      "needs_background": "light"
     },
     "output_type": "display_data"
    }
   ],
   "source": [
    "def count_non_zero_coefs(X, y, C_values):\n",
    "  \"\"\"Fit models with different L1 penalty values and count non-zero coefficients.\n",
    "  Args:\n",
    "    X (2D array): Data matrix\n",
    "    y (1D array): Label vector\n",
    "    C_values (1D array): List of hyperparameter values\n",
    "  Returns:\n",
    "    non_zero_coefs (list): number of coefficients in each model that are nonzero\n",
    "  \"\"\"\n",
    "  non_zero_coefs = []\n",
    "  for C in C_values:\n",
    "\n",
    "    # Initialize and fit the model\n",
    "    # (Hint, you may need to set max_iter)\n",
    "    model = LogisticRegression(penalty=\"l1\", C=C, solver=\"saga\", max_iter=5000)\n",
    "    model.fit(X,y)\n",
    "\n",
    "    # Get the coefs of the fit model (in sklearn, we can do this using model.coef_)\n",
    "    coefs = model.coef_\n",
    "\n",
    "    # Count the number of non-zero elements in coefs\n",
    "    non_zero = np.sum(coefs != 0)\n",
    "    non_zero_coefs.append(non_zero)\n",
    "\n",
    "  return non_zero_coefs\n",
    "\n",
    "\n",
    "# Use log-spaced values for C\n",
    "C_values = np.logspace(-4, 4, 5)\n",
    "\n",
    "# Count non zero coefficients\n",
    "non_zero_l1 = count_non_zero_coefs(X, y, C_values)\n",
    "\n",
    "# Visualize\n",
    "#with plt.xkcd():\n",
    "plot_non_zero_coefs(C_values, non_zero_l1, n_voxels=X.shape[1])"
   ]
  },
  {
   "cell_type": "code",
   "execution_count": null,
   "metadata": {
    "id": "Mb8ijPJbktmx"
   },
   "outputs": [],
   "source": []
  }
 ],
 "metadata": {
  "colab": {
   "provenance": []
  },
  "kernelspec": {
   "display_name": "Python 3 (ipykernel)",
   "language": "python",
   "name": "python3"
  },
  "language_info": {
   "codemirror_mode": {
    "name": "ipython",
    "version": 3
   },
   "file_extension": ".py",
   "mimetype": "text/x-python",
   "name": "python",
   "nbconvert_exporter": "python",
   "pygments_lexer": "ipython3",
   "version": "3.9.12"
  }
 },
 "nbformat": 4,
 "nbformat_minor": 1
}
